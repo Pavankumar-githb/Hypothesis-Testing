
      "cell_type": "code",
      "source": [
        "import numpy as np\n",
        "import scipy.stats as stats\n",
        "\n",
        "# Observed frequencies (contingency table)\n",
        "observed = np.array([[50, 70],\n",
        "                     [80, 100],\n",
        "                     [60, 90],\n",
        "                     [30, 50],\n",
        "                     [20, 50]])\n",
        "\n",
        "# Perform the Chi-Square test\n",
        "chi2_stat, p_value, dof, expected = stats.chi2_contingency(observed)\n",
        "\n",
        "# Determine the critical value at alpha = 0.05\n",
        "alpha = 0.05\n",
        "critical_value = stats.chi2.ppf(1 - alpha, dof)\n",
        "\n",
        "# Print results\n",
        "print(f\"Chi-Square Statistic: {chi2_stat:.2f}\")\n",
        "print(f\"Degrees of Freedom: {dof}\")\n",
        "print(f\"Critical Value (alpha=0.05): {critical_value:.2f}\")\n",
        "print(f\"p-value: {p_value:.3f}\")\n",
        "print(\"Expected Frequencies:\")\n",
        "print(expected)\n",
        "\n",
        "# Decision\n",
        "if chi2_stat > critical_value:\n",
        "    print(\"Reject the null hypothesis: There is a significant association between device type and customer satisfaction.\")\n",
        "else:\n",
        "    print(\"Fail to reject the null hypothesis: No significant association between device type and customer satisfaction.\")\n"
      ],
      "metadata": {
        "colab": {
          "base_uri": "https://localhost:8080/"
        },
        "id": "VykNN91Q_Yjx",
        "outputId": "5c24137e-71e3-44c4-9513-13b3d727702e"
      },
      "execution_count": 1,
      "outputs": [
        {
          "output_type": "stream",
          "name": "stdout",
          "text": [
            "Chi-Square Statistic: 5.64\n",
            "Degrees of Freedom: 4\n",
            "Critical Value (alpha=0.05): 9.49\n",
            "p-value: 0.228\n",
            "Expected Frequencies:\n",
            "[[ 48.  72.]\n",
            " [ 72. 108.]\n",
            " [ 60.  90.]\n",
            " [ 32.  48.]\n",
            " [ 28.  42.]]\n",
            "Fail to reject the null hypothesis: No significant association between device type and customer satisfaction.\n"
          ]
        }
      ]
    }
  ],
  "metadata": {
    "colab": {
      "name": "Welcome To Colab",
      "provenance": []
    },
    "kernelspec": {
      "display_name": "Python 3",
      "name": "python3"
    }
  },
  "nbformat": 4,
  "nbformat_minor": 0
}
